{
 "cells": [
  {
   "cell_type": "code",
   "execution_count": 6,
   "metadata": {},
   "outputs": [
    {
     "name": "stdout",
     "output_type": "stream",
     "text": [
      "Bool Value with axis = NONE :  True\n",
      "\n",
      "Bool Value with axis = 0 :  [ True False]\n",
      "\n",
      "Bool :  True\n",
      "\n",
      "Bool :  True\n",
      "\n",
      "Bool Value :  False\n"
     ]
    }
   ],
   "source": [
    "# Python Program illustrating\n",
    "# numpy.any() method\n",
    "\t\n",
    "import numpy as np\n",
    "\t\n",
    "# Axis = NULL\n",
    "# True False\n",
    "# True True\n",
    "# True : False = True (OR)\n",
    "\n",
    "print(\"Bool Value with axis = NONE : \",\n",
    "\tnp.any([[True,False],[True,True]]))\n",
    "\n",
    "# Axis = 0\n",
    "# True False\n",
    "# True True\n",
    "# True : False\n",
    "print(\"\\nBool Value with axis = 0 : \",\n",
    "\tnp.any([[6,6],[0,0]], axis = 1))\n",
    "\n",
    "print(\"\\nBool : \", np.any([-1, 4, 5]))\n",
    "\n",
    "\n",
    "# Not a Number (NaN), positive infinity and negative infinity\n",
    "# evaluate to True because these are not equal to zero.\n",
    "print(\"\\nBool : \", np.any([1.0, np.nan]))\n",
    "\n",
    "print(\"\\nBool Value : \", np.any([[0, 0],[0, 0]]))\n"
   ]
  }
 ],
 "metadata": {
  "interpreter": {
   "hash": "ad75d77415e4b48034d8e80550c81c5073661de8bfd84abeb56435431a9d001a"
  },
  "kernelspec": {
   "display_name": "Python 3.10.2 64-bit (windows store)",
   "language": "python",
   "name": "python3"
  },
  "language_info": {
   "codemirror_mode": {
    "name": "ipython",
    "version": 3
   },
   "file_extension": ".py",
   "mimetype": "text/x-python",
   "name": "python",
   "nbconvert_exporter": "python",
   "pygments_lexer": "ipython3",
   "version": "3.10.2"
  },
  "orig_nbformat": 4
 },
 "nbformat": 4,
 "nbformat_minor": 2
}

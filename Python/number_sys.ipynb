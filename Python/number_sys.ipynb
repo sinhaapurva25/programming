def new_func():
    return [1,2,4]
print(new_func())
print("{:>o}".format(9))
print("{:>b}".format(9))
print("{:>d}".format(9))
print("{:>X}".format(17))